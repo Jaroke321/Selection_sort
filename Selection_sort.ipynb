{
 "cells": [
  {
   "cell_type": "code",
   "execution_count": 5,
   "metadata": {},
   "outputs": [],
   "source": [
    "##This notebooks purpose is to demonstrate the use of a selection sort algorithm\n",
    "## the first step will be to define a function that finds and returns\n",
    "## the smallest value in a list\n",
    "## the second function will use this first function to sort in ascending order\n",
    "\n",
    "# First function find_smallest(), finds the smallest value in a provided list and returns its index\n",
    "def find_smallest(a_list):\n",
    "    #get first value in list\n",
    "    smallest = a_list[0]\n",
    "    smallest_index = 0\n",
    "    \n",
    "    #go through each value in list to find the smallest\n",
    "    for i in range(1, len(a_list)):\n",
    "        #check to see if new value is smaller than smallest\n",
    "        if(a_list[i] < smallest):\n",
    "            smallest = a_list[i]\n",
    "            smallest_index = i\n",
    "    return smallest_index\n"
   ]
  },
  {
   "cell_type": "code",
   "execution_count": 6,
   "metadata": {},
   "outputs": [],
   "source": [
    "## Next function takes in a list and sorts it\n",
    "## first creates new empty list\n",
    "## then finds smallest in old list and appends it to new list\n",
    "\n",
    "## create new function selection_sort()\n",
    "def selection_sort(old_list):\n",
    "    # new list\n",
    "    new_list = []\n",
    "    for i in range(len(old_list)):\n",
    "        ## use find_smallest to get smallest value and append to new list\n",
    "        smallest_index = find_smallest(old_list)\n",
    "        new_list.append(old_list.pop(smallest_index))\n",
    "        \n",
    "    return new_list"
   ]
  },
  {
   "cell_type": "code",
   "execution_count": 7,
   "metadata": {},
   "outputs": [
    {
     "name": "stdout",
     "output_type": "stream",
     "text": [
      "[1, 2, 3, 4, 5, 6, 7, 8, 9, 10]\n"
     ]
    }
   ],
   "source": [
    "test = [10, 9, 8, 7, 6, 5, 4, 3, 2, 1]\n",
    "sorted_test = selection_sort(test)\n",
    "print(sorted_test)"
   ]
  },
  {
   "cell_type": "code",
   "execution_count": null,
   "metadata": {},
   "outputs": [],
   "source": []
  }
 ],
 "metadata": {
  "kernelspec": {
   "display_name": "Python 3",
   "language": "python",
   "name": "python3"
  },
  "language_info": {
   "codemirror_mode": {
    "name": "ipython",
    "version": 3
   },
   "file_extension": ".py",
   "mimetype": "text/x-python",
   "name": "python",
   "nbconvert_exporter": "python",
   "pygments_lexer": "ipython3",
   "version": "3.5.2"
  },
  "widgets": {
   "state": {},
   "version": "1.1.2"
  }
 },
 "nbformat": 4,
 "nbformat_minor": 2
}
